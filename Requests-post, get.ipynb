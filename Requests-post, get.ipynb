{
 "cells": [
  {
   "cell_type": "markdown",
   "metadata": {},
   "source": [
    "# Requests\n",
    "참고링크: https://sagittariusof85s.tistory.com/266"
   ]
  },
  {
   "cell_type": "markdown",
   "metadata": {},
   "source": [
    "## 1. GET 통신하기"
   ]
  },
  {
   "cell_type": "code",
   "execution_count": null,
   "metadata": {},
   "outputs": [],
   "source": [
    "import requests\n",
    "\n",
    "# 파라미터 설정\n",
    "datas = {\n",
    "    'key' : 'value1'\n",
    "    'key2': 'value2'\n",
    "}\n",
    "\n",
    "# API 통신을 할 URL 주소 입력\n",
    "url = \"사이트주소\"\n",
    "\n",
    "# get 통신\n",
    "response = requests.get(url, params = datas)"
   ]
  },
  {
   "cell_type": "markdown",
   "metadata": {},
   "source": [
    "get 방식은 주소 뒤에 바로 파라미터가 붙어서 노출이되며, 길이제한이 있다.\n",
    "보안에 좋지 않음."
   ]
  },
  {
   "cell_type": "markdown",
   "metadata": {},
   "source": [
    "## 2. POST 통신하기"
   ]
  },
  {
   "cell_type": "code",
   "execution_count": null,
   "metadata": {},
   "outputs": [],
   "source": [
    "import requests\n",
    "\n",
    "# 파라미터 설정\n",
    "datas = {\n",
    "    'key' : 'value1'\n",
    "    'key2': 'value2'\n",
    "}\n",
    "\n",
    "# API 통신을 할 URL 주소 입력\n",
    "url = \"사이트주소\"\n",
    "\n",
    "# post 통신 - 파라미터 데이터를 data로 넘김\n",
    "response = requests.get(url, data = datas)"
   ]
  },
  {
   "cell_type": "markdown",
   "metadata": {},
   "source": [
    "## 3. 헤더, 쿠키 추가하기"
   ]
  },
  {
   "cell_type": "code",
   "execution_count": null,
   "metadata": {},
   "outputs": [],
   "source": [
    "import requests\n",
    "\n",
    "data = {\n",
    "    'key' : 'value1'\n",
    "    'key2': 'value2'\n",
    "}\n",
    "\n",
    "url = \"사이트주소\"\n",
    "headers = {'Content-Type': 'application/json; charset=utf-8'}\n",
    "cookies = {'ck_test' = 'cookies_test'}\n",
    "\n",
    "response = requests.post(url, data = datas, headers = headers, cookies = cookies)"
   ]
  },
  {
   "cell_type": "markdown",
   "metadata": {},
   "source": [
    "## 4. json 데이터 전송하기"
   ]
  },
  {
   "cell_type": "code",
   "execution_count": null,
   "metadata": {},
   "outputs": [],
   "source": [
    "import requests\n",
    "\n",
    "datas = [{\n",
    "    \"keys\" : {\n",
    "        \"key1\" : 'key_value1'\n",
    "    }\n",
    "    , \"values\" : {\n",
    "        \"value1\" : 'values1'\n",
    "    }\n",
    "}]\n",
    "\n",
    "url = \"사이트주소\"\n",
    "headers = {'Content-Type': 'application/json; charset=utf-8'}\n",
    "cookies = {'ck_test' = 'cookies_test'}\n",
    "\n",
    "response = requests.post(url, data = datas, headers = headers, cookies = cookies)"
   ]
  },
  {
   "cell_type": "markdown",
   "metadata": {},
   "source": [
    "## 5. SSL 인증 필요시"
   ]
  },
  {
   "cell_type": "markdown",
   "metadata": {},
   "source": [
    "SSL로 인해 오류가 발생할 때 verigy=False 설정(기본값은 True)"
   ]
  },
  {
   "cell_type": "code",
   "execution_count": null,
   "metadata": {},
   "outputs": [],
   "source": [
    "import requests\n",
    "\n",
    "data = {\n",
    "    'key' : 'value1'\n",
    "    'key2': 'value2'\n",
    "}\n",
    "\n",
    "url = \"사이트주소\"\n",
    "headers = {'Content-Type': 'application/json; charset=utf-8'}\n",
    "cookies = {'ck_test' = 'cookies_test'}\n",
    "\n",
    "response = requests.post(url, data = datas, verify=False)"
   ]
  },
  {
   "cell_type": "markdown",
   "metadata": {},
   "source": [
    "## 6. TimeOut 설정하기"
   ]
  },
  {
   "cell_type": "markdown",
   "metadata": {},
   "source": [
    "API 통신을 할 때 특정 시간동안 응답에 대한 결과가 없으면 exception 발생시키는 것"
   ]
  },
  {
   "cell_type": "code",
   "execution_count": null,
   "metadata": {},
   "outputs": [],
   "source": [
    "import requests\n",
    "\n",
    "data = {\n",
    "    'key' : 'value1'\n",
    "    'key2': 'value2'\n",
    "}\n",
    "\n",
    "url = \"사이트주소\"\n",
    "\n",
    "response = requests.post(url, data = datas, timeout=2) #2초 지나면 exception 발생"
   ]
  },
  {
   "cell_type": "markdown",
   "metadata": {},
   "source": [
    "## 7. 응답값 받아 처리하기"
   ]
  },
  {
   "cell_type": "code",
   "execution_count": null,
   "metadata": {},
   "outputs": [],
   "source": [
    "# 자주 사용하는 코드\n",
    "\n",
    "response.request #전송한 request 객체에 접근\n",
    "response.status_code #응답 결과 코드\n",
    "response.raise_for_status() #200 OK 코드가 아닌 경우 에러 발동\n",
    "response.json() #json response일 경우 딕셔너리 타입으로 바로 변환"
   ]
  },
  {
   "cell_type": "code",
   "execution_count": null,
   "metadata": {},
   "outputs": [],
   "source": [
    "import requests\n",
    "\n",
    "data = {\n",
    "    'key' : 'value1'\n",
    "    'key2': 'value2'\n",
    "}\n",
    "\n",
    "url = \"사이트주소\"\n",
    "\n",
    "response = requests.post(url, data = datas, timeout=2) #2초 지나면 exception 발생\n",
    "\n",
    "if response.status_coe == 200 :\n",
    "    print(json.loads(response.text))"
   ]
  },
  {
   "cell_type": "markdown",
   "metadata": {},
   "source": [
    "### 예시\n",
    "참고링크: https://scribblinganything.tistory.com/551"
   ]
  },
  {
   "cell_type": "markdown",
   "metadata": {},
   "source": [
    "### GET"
   ]
  },
  {
   "cell_type": "code",
   "execution_count": 6,
   "metadata": {},
   "outputs": [
    {
     "name": "stdout",
     "output_type": "stream",
     "text": [
      "{\n",
      "  \"args\": {\n",
      "    \"names\": \"james\"\n",
      "  }, \n",
      "  \"headers\": {\n",
      "    \"Accept\": \"*/*\", \n",
      "    \"Accept-Encoding\": \"gzip, deflate\", \n",
      "    \"Host\": \"httpbin.org\", \n",
      "    \"User-Agent\": \"python-requests/2.24.0\", \n",
      "    \"X-Amzn-Trace-Id\": \"Root=1-6422460d-644c0e140a2ff1821e04fdda\"\n",
      "  }, \n",
      "  \"origin\": \"182.212.13.169\", \n",
      "  \"url\": \"https://httpbin.org/get?names=james\"\n",
      "}\n",
      "\n",
      "200\n"
     ]
    }
   ],
   "source": [
    "import requests\n",
    "\n",
    "url = 'https://httpbin.org/get'\n",
    "\n",
    "request = requests.get(url, params = {\"names\": \"james\"})\n",
    "\n",
    "print(request.text)\n",
    "print(request.status_code)"
   ]
  },
  {
   "cell_type": "markdown",
   "metadata": {},
   "source": [
    "### POST"
   ]
  },
  {
   "cell_type": "code",
   "execution_count": 11,
   "metadata": {},
   "outputs": [
    {
     "name": "stdout",
     "output_type": "stream",
     "text": [
      "{\n",
      "  \"args\": {}, \n",
      "  \"data\": \"\", \n",
      "  \"files\": {}, \n",
      "  \"form\": {\n",
      "    \"age\": \"23\", \n",
      "    \"name\": \"james\"\n",
      "  }, \n",
      "  \"headers\": {\n",
      "    \"Accept\": \"*/*\", \n",
      "    \"Accept-Encoding\": \"gzip, deflate\", \n",
      "    \"Content-Length\": \"17\", \n",
      "    \"Content-Type\": \"application/x-www-form-urlencoded\", \n",
      "    \"Host\": \"httpbin.org\", \n",
      "    \"User-Agent\": \"python-requests/2.24.0\", \n",
      "    \"X-Amzn-Trace-Id\": \"Root=1-642246b2-065823d578a66e4b5cd43c72\"\n",
      "  }, \n",
      "  \"json\": null, \n",
      "  \"origin\": \"182.212.13.169\", \n",
      "  \"url\": \"https://httpbin.org/post\"\n",
      "}\n",
      "\n",
      "200\n"
     ]
    }
   ],
   "source": [
    "import requests\n",
    "\n",
    "url = \"https://httpbin.org/post\"\n",
    "data = {\n",
    "    'name' : 'james',\n",
    "    'age' : '23'\n",
    "}\n",
    "\n",
    "request = requests.post(url, json = data)##json\n",
    "\n",
    "print(request.text)\n",
    "print(request.status_code)"
   ]
  },
  {
   "cell_type": "code",
   "execution_count": 12,
   "metadata": {},
   "outputs": [
    {
     "name": "stdout",
     "output_type": "stream",
     "text": [
      "{\n",
      "  \"args\": {}, \n",
      "  \"data\": \"\", \n",
      "  \"files\": {}, \n",
      "  \"form\": {\n",
      "    \"age\": \"23\", \n",
      "    \"name\": \"james\"\n",
      "  }, \n",
      "  \"headers\": {\n",
      "    \"Accept\": \"*/*\", \n",
      "    \"Accept-Encoding\": \"gzip, deflate\", \n",
      "    \"Content-Length\": \"17\", \n",
      "    \"Content-Type\": \"application/x-www-form-urlencoded\", \n",
      "    \"Host\": \"httpbin.org\", \n",
      "    \"User-Agent\": \"python-requests/2.24.0\", \n",
      "    \"X-Amzn-Trace-Id\": \"Root=1-64224705-699f01ef4f70af2832a42597\"\n",
      "  }, \n",
      "  \"json\": null, \n",
      "  \"origin\": \"182.212.13.169\", \n",
      "  \"url\": \"https://httpbin.org/post\"\n",
      "}\n",
      "\n",
      "200\n"
     ]
    }
   ],
   "source": [
    "import requests\n",
    "\n",
    "url = \"https://httpbin.org/post\"\n",
    "data = {\n",
    "    'name' : 'james',\n",
    "    'age' : '23'\n",
    "}\n",
    "\n",
    "request = requests.post(url, data = data) ##data -> json 객체 null로 반환\n",
    "\n",
    "print(request.text)\n",
    "print(request.status_code)"
   ]
  }
 ],
 "metadata": {
  "kernelspec": {
   "display_name": "Python 3",
   "language": "python",
   "name": "python3"
  },
  "language_info": {
   "codemirror_mode": {
    "name": "ipython",
    "version": 3
   },
   "file_extension": ".py",
   "mimetype": "text/x-python",
   "name": "python",
   "nbconvert_exporter": "python",
   "pygments_lexer": "ipython3",
   "version": "3.8.5"
  }
 },
 "nbformat": 4,
 "nbformat_minor": 4
}
